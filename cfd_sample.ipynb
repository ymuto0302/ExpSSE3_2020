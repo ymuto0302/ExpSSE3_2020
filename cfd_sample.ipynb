{
 "cells": [
  {
   "cell_type": "markdown",
   "metadata": {},
   "source": [
    "# nltk の条件付き頻度分布\n",
    "条件付き頻度分布(condiotnal frequency distribution)を利用して n-gram を抽出する。\n",
    "\n",
    "以下では bigram を例として説明する。"
   ]
  },
  {
   "cell_type": "code",
   "execution_count": 2,
   "metadata": {},
   "outputs": [],
   "source": [
    "# NLTK (Natural Language ToolKit) のインポート\n",
    "import nltk"
   ]
  },
  {
   "cell_type": "code",
   "execution_count": 27,
   "metadata": {},
   "outputs": [],
   "source": [
    "# 文書を与えて，CFD を得る\n",
    "doc = ['今日', '天気', 'とても', 'いいね']\n",
    "corpus = nltk.Text(doc)\n",
    "bigrams = nltk.bigrams(corpus)\n",
    "cfd = nltk.ConditionalFreqDist(bigrams)"
   ]
  },
  {
   "cell_type": "code",
   "execution_count": 28,
   "metadata": {},
   "outputs": [
    {
     "name": "stdout",
     "output_type": "stream",
     "text": [
      "今日 <FreqDist with 1 samples and 1 outcomes>\n",
      "今日 天気\n",
      "天気 <FreqDist with 1 samples and 1 outcomes>\n",
      "天気 とても\n",
      "とても <FreqDist with 1 samples and 1 outcomes>\n",
      "とても いいね\n"
     ]
    }
   ],
   "source": [
    "# CFD の中身を見る。cfd.items() を用いるのがコツである。\n",
    "for key, values in cfd.items():\n",
    "    print(key, values)\n",
    "    for word in values:\n",
    "        print(key, word)"
   ]
  },
  {
   "cell_type": "markdown",
   "metadata": {},
   "source": [
    "### 複数の文書を扱う場合の処理"
   ]
  },
  {
   "cell_type": "code",
   "execution_count": 23,
   "metadata": {},
   "outputs": [],
   "source": [
    "# 文書を２つ準備\n",
    "d1 = ['今日', '天気', 'いいね', '天気']\n",
    "d2 = ['昨日', '晴れ', 'いいね', '天気']"
   ]
  },
  {
   "cell_type": "code",
   "execution_count": 31,
   "metadata": {
    "scrolled": true
   },
   "outputs": [
    {
     "name": "stdout",
     "output_type": "stream",
     "text": [
      "--- cfd1 ---\n",
      "今日 天気\n",
      "天気 いいね\n",
      "いいね 天気\n",
      "--- cfd2 ---\n",
      "昨日 晴れ\n",
      "晴れ いいね\n",
      "いいね 天気\n",
      "--- concatenated cfd ---\n",
      "今日 天気\n",
      "天気 いいね\n",
      "いいね 天気\n",
      "昨日 晴れ\n",
      "晴れ いいね\n",
      "---結合したCFD の詳細 ---\n",
      "今日 <FreqDist with 1 samples and 1 outcomes>\n",
      "天気 <FreqDist with 1 samples and 1 outcomes>\n",
      "いいね <FreqDist with 1 samples and 2 outcomes>\n",
      "昨日 <FreqDist with 1 samples and 1 outcomes>\n",
      "晴れ <FreqDist with 1 samples and 1 outcomes>\n"
     ]
    }
   ],
   "source": [
    "def get_cfd(doc):\n",
    "    corpus = nltk.Text(doc)\n",
    "    bigrams = nltk.bigrams(corpus)\n",
    "    cfd = nltk.ConditionalFreqDist(bigrams)\n",
    "    return cfd\n",
    "\n",
    "def print_cfd(cfd):\n",
    "    for key, values in cfd.items():\n",
    "        # print(key, values)\n",
    "        for word in values:\n",
    "            print(key, word)\n",
    "\n",
    "# CFD (条件付き頻度分布) を求める\n",
    "cfd1 = get_cfd(d1)\n",
    "cfd2 = get_cfd(d2)\n",
    "\n",
    "print(\"--- cfd1 ---\")\n",
    "print_cfd(cfd1)\n",
    "print(\"--- cfd2 ---\")\n",
    "print_cfd(cfd2)\n",
    "\n",
    "# CFD の結合\n",
    "cfd = cfd1 + cfd2\n",
    "\n",
    "print(\"--- concatenated cfd ---\")\n",
    "print_cfd(cfd)\n",
    "\n",
    "print(\"---結合したCFD の詳細 ---\")\n",
    "for key, values in cfd.items():\n",
    "    print(key, values)"
   ]
  },
  {
   "cell_type": "code",
   "execution_count": 26,
   "metadata": {},
   "outputs": [
    {
     "data": {
      "text/plain": [
       "FreqDist({'天気': 2})"
      ]
     },
     "execution_count": 26,
     "metadata": {},
     "output_type": "execute_result"
    }
   ],
   "source": [
    "# 「いいね」と共起する語とその頻度\n",
    "cfd['いいね']"
   ]
  },
  {
   "cell_type": "markdown",
   "metadata": {},
   "source": [
    "## (utility) 共起ペア ＆ 出現頻度への組み換え\n",
    "後々，利用しやすいように「共起ペアとその出現頻度」の辞書を作る"
   ]
  },
  {
   "cell_type": "code",
   "execution_count": 33,
   "metadata": {},
   "outputs": [
    {
     "name": "stdout",
     "output_type": "stream",
     "text": [
      "{('今日', '天気'): 1, ('天気', 'いいね'): 1, ('いいね', '天気'): 2, ('昨日', '晴れ'): 1, ('晴れ', 'いいね'): 1}\n"
     ]
    }
   ],
   "source": [
    "# CFD から「共起ペア ＆ 頻度」への組み換え\n",
    "result = dict()\n",
    "for key, values in cfd.items():\n",
    "    for word in values:\n",
    "        result[(key, word)] = cfd[key][word]\n",
    "\n",
    "print(result)"
   ]
  },
  {
   "cell_type": "code",
   "execution_count": null,
   "metadata": {},
   "outputs": [],
   "source": []
  }
 ],
 "metadata": {
  "kernelspec": {
   "display_name": "Python 3",
   "language": "python",
   "name": "python3"
  },
  "language_info": {
   "codemirror_mode": {
    "name": "ipython",
    "version": 3
   },
   "file_extension": ".py",
   "mimetype": "text/x-python",
   "name": "python",
   "nbconvert_exporter": "python",
   "pygments_lexer": "ipython3",
   "version": "3.7.3"
  }
 },
 "nbformat": 4,
 "nbformat_minor": 2
}
